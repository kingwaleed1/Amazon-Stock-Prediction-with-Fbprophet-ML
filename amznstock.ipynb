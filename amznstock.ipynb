{
  "nbformat": 4,
  "nbformat_minor": 0,
  "metadata": {
    "colab": {
      "name": "amznstock.ipynb",
      "provenance": []
    },
    "kernelspec": {
      "name": "python3",
      "display_name": "Python 3"
    },
    "language_info": {
      "name": "python"
    }
  },
  "cells": [
    {
      "cell_type": "code",
      "metadata": {
        "id": "lgH1khnl4vnR"
      },
      "source": [
        "import pandas as pd\n",
        "import matplotlib as plt\n",
        "from fbprophet import Prophet\n",
        "import numpy as np \n"
      ],
      "execution_count": 2,
      "outputs": []
    },
    {
      "cell_type": "code",
      "metadata": {
        "id": "OYcIMDt65IYW"
      },
      "source": [
        "data = pd.read_csv('/content/amzn.csv')"
      ],
      "execution_count": 4,
      "outputs": []
    },
    {
      "cell_type": "code",
      "metadata": {
        "colab": {
          "base_uri": "https://localhost:8080/",
          "height": 204
        },
        "id": "dZCXPKBO5V1q",
        "outputId": "181abf06-a104-4664-e51d-febd51eb68e5"
      },
      "source": [
        "data.head()"
      ],
      "execution_count": 6,
      "outputs": [
        {
          "output_type": "execute_result",
          "data": {
            "text/html": [
              "<div>\n",
              "<style scoped>\n",
              "    .dataframe tbody tr th:only-of-type {\n",
              "        vertical-align: middle;\n",
              "    }\n",
              "\n",
              "    .dataframe tbody tr th {\n",
              "        vertical-align: top;\n",
              "    }\n",
              "\n",
              "    .dataframe thead th {\n",
              "        text-align: right;\n",
              "    }\n",
              "</style>\n",
              "<table border=\"1\" class=\"dataframe\">\n",
              "  <thead>\n",
              "    <tr style=\"text-align: right;\">\n",
              "      <th></th>\n",
              "      <th>Date</th>\n",
              "      <th>Open</th>\n",
              "      <th>High</th>\n",
              "      <th>Low</th>\n",
              "      <th>Close</th>\n",
              "      <th>Adj Close</th>\n",
              "      <th>Volume</th>\n",
              "    </tr>\n",
              "  </thead>\n",
              "  <tbody>\n",
              "    <tr>\n",
              "      <th>0</th>\n",
              "      <td>1997-05-15</td>\n",
              "      <td>2.437500</td>\n",
              "      <td>2.500000</td>\n",
              "      <td>1.927083</td>\n",
              "      <td>1.958333</td>\n",
              "      <td>1.958333</td>\n",
              "      <td>72156000</td>\n",
              "    </tr>\n",
              "    <tr>\n",
              "      <th>1</th>\n",
              "      <td>1997-05-16</td>\n",
              "      <td>1.968750</td>\n",
              "      <td>1.979167</td>\n",
              "      <td>1.708333</td>\n",
              "      <td>1.729167</td>\n",
              "      <td>1.729167</td>\n",
              "      <td>14700000</td>\n",
              "    </tr>\n",
              "    <tr>\n",
              "      <th>2</th>\n",
              "      <td>1997-05-19</td>\n",
              "      <td>1.760417</td>\n",
              "      <td>1.770833</td>\n",
              "      <td>1.625000</td>\n",
              "      <td>1.708333</td>\n",
              "      <td>1.708333</td>\n",
              "      <td>6106800</td>\n",
              "    </tr>\n",
              "    <tr>\n",
              "      <th>3</th>\n",
              "      <td>1997-05-20</td>\n",
              "      <td>1.729167</td>\n",
              "      <td>1.750000</td>\n",
              "      <td>1.635417</td>\n",
              "      <td>1.635417</td>\n",
              "      <td>1.635417</td>\n",
              "      <td>5467200</td>\n",
              "    </tr>\n",
              "    <tr>\n",
              "      <th>4</th>\n",
              "      <td>1997-05-21</td>\n",
              "      <td>1.635417</td>\n",
              "      <td>1.645833</td>\n",
              "      <td>1.375000</td>\n",
              "      <td>1.427083</td>\n",
              "      <td>1.427083</td>\n",
              "      <td>18853200</td>\n",
              "    </tr>\n",
              "  </tbody>\n",
              "</table>\n",
              "</div>"
            ],
            "text/plain": [
              "         Date      Open      High       Low     Close  Adj Close    Volume\n",
              "0  1997-05-15  2.437500  2.500000  1.927083  1.958333   1.958333  72156000\n",
              "1  1997-05-16  1.968750  1.979167  1.708333  1.729167   1.729167  14700000\n",
              "2  1997-05-19  1.760417  1.770833  1.625000  1.708333   1.708333   6106800\n",
              "3  1997-05-20  1.729167  1.750000  1.635417  1.635417   1.635417   5467200\n",
              "4  1997-05-21  1.635417  1.645833  1.375000  1.427083   1.427083  18853200"
            ]
          },
          "metadata": {
            "tags": []
          },
          "execution_count": 6
        }
      ]
    },
    {
      "cell_type": "code",
      "metadata": {
        "colab": {
          "base_uri": "https://localhost:8080/",
          "height": 297
        },
        "id": "Cgae3nLe5Wp6",
        "outputId": "cd1d3fdf-8bc7-4928-a0f5-3901ebd432ad"
      },
      "source": [
        "data.describe()"
      ],
      "execution_count": 12,
      "outputs": [
        {
          "output_type": "execute_result",
          "data": {
            "text/html": [
              "<div>\n",
              "<style scoped>\n",
              "    .dataframe tbody tr th:only-of-type {\n",
              "        vertical-align: middle;\n",
              "    }\n",
              "\n",
              "    .dataframe tbody tr th {\n",
              "        vertical-align: top;\n",
              "    }\n",
              "\n",
              "    .dataframe thead th {\n",
              "        text-align: right;\n",
              "    }\n",
              "</style>\n",
              "<table border=\"1\" class=\"dataframe\">\n",
              "  <thead>\n",
              "    <tr style=\"text-align: right;\">\n",
              "      <th></th>\n",
              "      <th>Open</th>\n",
              "      <th>High</th>\n",
              "      <th>Low</th>\n",
              "      <th>Close</th>\n",
              "      <th>Adj Close</th>\n",
              "      <th>Volume</th>\n",
              "    </tr>\n",
              "  </thead>\n",
              "  <tbody>\n",
              "    <tr>\n",
              "      <th>count</th>\n",
              "      <td>6050.000000</td>\n",
              "      <td>6050.000000</td>\n",
              "      <td>6050.000000</td>\n",
              "      <td>6050.000000</td>\n",
              "      <td>6050.000000</td>\n",
              "      <td>6.050000e+03</td>\n",
              "    </tr>\n",
              "    <tr>\n",
              "      <th>mean</th>\n",
              "      <td>470.433910</td>\n",
              "      <td>475.702096</td>\n",
              "      <td>464.543413</td>\n",
              "      <td>470.274623</td>\n",
              "      <td>470.274623</td>\n",
              "      <td>7.402335e+06</td>\n",
              "    </tr>\n",
              "    <tr>\n",
              "      <th>std</th>\n",
              "      <td>774.504411</td>\n",
              "      <td>782.756815</td>\n",
              "      <td>764.855010</td>\n",
              "      <td>773.821429</td>\n",
              "      <td>773.821429</td>\n",
              "      <td>7.187745e+06</td>\n",
              "    </tr>\n",
              "    <tr>\n",
              "      <th>min</th>\n",
              "      <td>1.406250</td>\n",
              "      <td>1.447917</td>\n",
              "      <td>1.312500</td>\n",
              "      <td>1.395833</td>\n",
              "      <td>1.395833</td>\n",
              "      <td>4.872000e+05</td>\n",
              "    </tr>\n",
              "    <tr>\n",
              "      <th>25%</th>\n",
              "      <td>38.482501</td>\n",
              "      <td>39.197499</td>\n",
              "      <td>37.872499</td>\n",
              "      <td>38.520000</td>\n",
              "      <td>38.520000</td>\n",
              "      <td>3.640775e+06</td>\n",
              "    </tr>\n",
              "    <tr>\n",
              "      <th>50%</th>\n",
              "      <td>89.036251</td>\n",
              "      <td>90.990002</td>\n",
              "      <td>86.750000</td>\n",
              "      <td>89.071251</td>\n",
              "      <td>89.071251</td>\n",
              "      <td>5.556750e+06</td>\n",
              "    </tr>\n",
              "    <tr>\n",
              "      <th>75%</th>\n",
              "      <td>429.697494</td>\n",
              "      <td>432.875000</td>\n",
              "      <td>426.237503</td>\n",
              "      <td>429.617508</td>\n",
              "      <td>429.617508</td>\n",
              "      <td>8.363125e+06</td>\n",
              "    </tr>\n",
              "    <tr>\n",
              "      <th>max</th>\n",
              "      <td>3547.000000</td>\n",
              "      <td>3554.000000</td>\n",
              "      <td>3486.689941</td>\n",
              "      <td>3531.449951</td>\n",
              "      <td>3531.449951</td>\n",
              "      <td>1.043292e+08</td>\n",
              "    </tr>\n",
              "  </tbody>\n",
              "</table>\n",
              "</div>"
            ],
            "text/plain": [
              "              Open         High  ...    Adj Close        Volume\n",
              "count  6050.000000  6050.000000  ...  6050.000000  6.050000e+03\n",
              "mean    470.433910   475.702096  ...   470.274623  7.402335e+06\n",
              "std     774.504411   782.756815  ...   773.821429  7.187745e+06\n",
              "min       1.406250     1.447917  ...     1.395833  4.872000e+05\n",
              "25%      38.482501    39.197499  ...    38.520000  3.640775e+06\n",
              "50%      89.036251    90.990002  ...    89.071251  5.556750e+06\n",
              "75%     429.697494   432.875000  ...   429.617508  8.363125e+06\n",
              "max    3547.000000  3554.000000  ...  3531.449951  1.043292e+08\n",
              "\n",
              "[8 rows x 6 columns]"
            ]
          },
          "metadata": {
            "tags": []
          },
          "execution_count": 12
        }
      ]
    },
    {
      "cell_type": "code",
      "metadata": {
        "id": "RnviD4j45aen"
      },
      "source": [
        "data['Date'] = pd.to_datetime(data['Date'], infer_datetime_format= True)\n"
      ],
      "execution_count": 15,
      "outputs": []
    },
    {
      "cell_type": "code",
      "metadata": {
        "id": "7J5m0Jh56FYK"
      },
      "source": [
        "data = data[['Date','Close']]"
      ],
      "execution_count": 20,
      "outputs": []
    },
    {
      "cell_type": "code",
      "metadata": {
        "colab": {
          "base_uri": "https://localhost:8080/",
          "height": 204
        },
        "id": "wq0ol2m96S78",
        "outputId": "cea40e14-d580-4b7f-c78e-cfb879437836"
      },
      "source": [
        "data.head()"
      ],
      "execution_count": 21,
      "outputs": [
        {
          "output_type": "execute_result",
          "data": {
            "text/html": [
              "<div>\n",
              "<style scoped>\n",
              "    .dataframe tbody tr th:only-of-type {\n",
              "        vertical-align: middle;\n",
              "    }\n",
              "\n",
              "    .dataframe tbody tr th {\n",
              "        vertical-align: top;\n",
              "    }\n",
              "\n",
              "    .dataframe thead th {\n",
              "        text-align: right;\n",
              "    }\n",
              "</style>\n",
              "<table border=\"1\" class=\"dataframe\">\n",
              "  <thead>\n",
              "    <tr style=\"text-align: right;\">\n",
              "      <th></th>\n",
              "      <th>Date</th>\n",
              "      <th>Close</th>\n",
              "    </tr>\n",
              "  </thead>\n",
              "  <tbody>\n",
              "    <tr>\n",
              "      <th>0</th>\n",
              "      <td>1997-05-15</td>\n",
              "      <td>1.958333</td>\n",
              "    </tr>\n",
              "    <tr>\n",
              "      <th>1</th>\n",
              "      <td>1997-05-16</td>\n",
              "      <td>1.729167</td>\n",
              "    </tr>\n",
              "    <tr>\n",
              "      <th>2</th>\n",
              "      <td>1997-05-19</td>\n",
              "      <td>1.708333</td>\n",
              "    </tr>\n",
              "    <tr>\n",
              "      <th>3</th>\n",
              "      <td>1997-05-20</td>\n",
              "      <td>1.635417</td>\n",
              "    </tr>\n",
              "    <tr>\n",
              "      <th>4</th>\n",
              "      <td>1997-05-21</td>\n",
              "      <td>1.427083</td>\n",
              "    </tr>\n",
              "  </tbody>\n",
              "</table>\n",
              "</div>"
            ],
            "text/plain": [
              "        Date     Close\n",
              "0 1997-05-15  1.958333\n",
              "1 1997-05-16  1.729167\n",
              "2 1997-05-19  1.708333\n",
              "3 1997-05-20  1.635417\n",
              "4 1997-05-21  1.427083"
            ]
          },
          "metadata": {
            "tags": []
          },
          "execution_count": 21
        }
      ]
    },
    {
      "cell_type": "code",
      "metadata": {
        "id": "_Op4gjRv6WrE"
      },
      "source": [
        "data = data.rename( columns={\"Date\": \"ds\", \"Close\": 'y'})"
      ],
      "execution_count": 24,
      "outputs": []
    },
    {
      "cell_type": "code",
      "metadata": {
        "colab": {
          "base_uri": "https://localhost:8080/",
          "height": 204
        },
        "id": "fRClmgy06t0l",
        "outputId": "b74f11ff-8fad-473f-c4db-253f147c0f21"
      },
      "source": [
        "data.head()"
      ],
      "execution_count": 25,
      "outputs": [
        {
          "output_type": "execute_result",
          "data": {
            "text/html": [
              "<div>\n",
              "<style scoped>\n",
              "    .dataframe tbody tr th:only-of-type {\n",
              "        vertical-align: middle;\n",
              "    }\n",
              "\n",
              "    .dataframe tbody tr th {\n",
              "        vertical-align: top;\n",
              "    }\n",
              "\n",
              "    .dataframe thead th {\n",
              "        text-align: right;\n",
              "    }\n",
              "</style>\n",
              "<table border=\"1\" class=\"dataframe\">\n",
              "  <thead>\n",
              "    <tr style=\"text-align: right;\">\n",
              "      <th></th>\n",
              "      <th>ds</th>\n",
              "      <th>y</th>\n",
              "    </tr>\n",
              "  </thead>\n",
              "  <tbody>\n",
              "    <tr>\n",
              "      <th>0</th>\n",
              "      <td>1997-05-15</td>\n",
              "      <td>1.958333</td>\n",
              "    </tr>\n",
              "    <tr>\n",
              "      <th>1</th>\n",
              "      <td>1997-05-16</td>\n",
              "      <td>1.729167</td>\n",
              "    </tr>\n",
              "    <tr>\n",
              "      <th>2</th>\n",
              "      <td>1997-05-19</td>\n",
              "      <td>1.708333</td>\n",
              "    </tr>\n",
              "    <tr>\n",
              "      <th>3</th>\n",
              "      <td>1997-05-20</td>\n",
              "      <td>1.635417</td>\n",
              "    </tr>\n",
              "    <tr>\n",
              "      <th>4</th>\n",
              "      <td>1997-05-21</td>\n",
              "      <td>1.427083</td>\n",
              "    </tr>\n",
              "  </tbody>\n",
              "</table>\n",
              "</div>"
            ],
            "text/plain": [
              "          ds         y\n",
              "0 1997-05-15  1.958333\n",
              "1 1997-05-16  1.729167\n",
              "2 1997-05-19  1.708333\n",
              "3 1997-05-20  1.635417\n",
              "4 1997-05-21  1.427083"
            ]
          },
          "metadata": {
            "tags": []
          },
          "execution_count": 25
        }
      ]
    },
    {
      "cell_type": "code",
      "metadata": {
        "id": "9KNe17V66wZD"
      },
      "source": [
        "model = Prophet()"
      ],
      "execution_count": 26,
      "outputs": []
    },
    {
      "cell_type": "code",
      "metadata": {
        "colab": {
          "base_uri": "https://localhost:8080/"
        },
        "id": "PvtIW3td7Jhn",
        "outputId": "1126c243-3555-42a2-d62a-8b9c2695a860"
      },
      "source": [
        "model.fit(data)"
      ],
      "execution_count": 27,
      "outputs": [
        {
          "output_type": "stream",
          "text": [
            "INFO:numexpr.utils:NumExpr defaulting to 2 threads.\n",
            "INFO:fbprophet:Disabling daily seasonality. Run prophet with daily_seasonality=True to override this.\n"
          ],
          "name": "stderr"
        },
        {
          "output_type": "execute_result",
          "data": {
            "text/plain": [
              "<fbprophet.forecaster.Prophet at 0x7f7f660430d0>"
            ]
          },
          "metadata": {
            "tags": []
          },
          "execution_count": 27
        }
      ]
    },
    {
      "cell_type": "code",
      "metadata": {
        "id": "BdeZtSzV7Lmm"
      },
      "source": [
        "prediction = model.make_future_dataframe(periods=500)"
      ],
      "execution_count": 29,
      "outputs": []
    },
    {
      "cell_type": "code",
      "metadata": {
        "id": "4LvLJ8ZV7duT"
      },
      "source": [
        "forcast = model.predict(prediction)"
      ],
      "execution_count": 30,
      "outputs": []
    },
    {
      "cell_type": "code",
      "metadata": {
        "colab": {
          "base_uri": "https://localhost:8080/",
          "height": 609
        },
        "id": "ZbDf5m3i7wfs",
        "outputId": "5a235806-3532-467a-d264-ae668d77b89f"
      },
      "source": [
        "forcast"
      ],
      "execution_count": 31,
      "outputs": [
        {
          "output_type": "execute_result",
          "data": {
            "text/html": [
              "<div>\n",
              "<style scoped>\n",
              "    .dataframe tbody tr th:only-of-type {\n",
              "        vertical-align: middle;\n",
              "    }\n",
              "\n",
              "    .dataframe tbody tr th {\n",
              "        vertical-align: top;\n",
              "    }\n",
              "\n",
              "    .dataframe thead th {\n",
              "        text-align: right;\n",
              "    }\n",
              "</style>\n",
              "<table border=\"1\" class=\"dataframe\">\n",
              "  <thead>\n",
              "    <tr style=\"text-align: right;\">\n",
              "      <th></th>\n",
              "      <th>ds</th>\n",
              "      <th>trend</th>\n",
              "      <th>yhat_lower</th>\n",
              "      <th>yhat_upper</th>\n",
              "      <th>trend_lower</th>\n",
              "      <th>trend_upper</th>\n",
              "      <th>additive_terms</th>\n",
              "      <th>additive_terms_lower</th>\n",
              "      <th>additive_terms_upper</th>\n",
              "      <th>weekly</th>\n",
              "      <th>weekly_lower</th>\n",
              "      <th>weekly_upper</th>\n",
              "      <th>yearly</th>\n",
              "      <th>yearly_lower</th>\n",
              "      <th>yearly_upper</th>\n",
              "      <th>multiplicative_terms</th>\n",
              "      <th>multiplicative_terms_lower</th>\n",
              "      <th>multiplicative_terms_upper</th>\n",
              "      <th>yhat</th>\n",
              "    </tr>\n",
              "  </thead>\n",
              "  <tbody>\n",
              "    <tr>\n",
              "      <th>0</th>\n",
              "      <td>1997-05-15</td>\n",
              "      <td>-6.127483</td>\n",
              "      <td>-166.465781</td>\n",
              "      <td>159.381461</td>\n",
              "      <td>-6.127483</td>\n",
              "      <td>-6.127483</td>\n",
              "      <td>0.539001</td>\n",
              "      <td>0.539001</td>\n",
              "      <td>0.539001</td>\n",
              "      <td>-1.054298</td>\n",
              "      <td>-1.054298</td>\n",
              "      <td>-1.054298</td>\n",
              "      <td>1.593299</td>\n",
              "      <td>1.593299</td>\n",
              "      <td>1.593299</td>\n",
              "      <td>0.0</td>\n",
              "      <td>0.0</td>\n",
              "      <td>0.0</td>\n",
              "      <td>-5.588482</td>\n",
              "    </tr>\n",
              "    <tr>\n",
              "      <th>1</th>\n",
              "      <td>1997-05-16</td>\n",
              "      <td>-6.050816</td>\n",
              "      <td>-163.686456</td>\n",
              "      <td>151.304076</td>\n",
              "      <td>-6.050816</td>\n",
              "      <td>-6.050816</td>\n",
              "      <td>-2.378955</td>\n",
              "      <td>-2.378955</td>\n",
              "      <td>-2.378955</td>\n",
              "      <td>-3.284213</td>\n",
              "      <td>-3.284213</td>\n",
              "      <td>-3.284213</td>\n",
              "      <td>0.905258</td>\n",
              "      <td>0.905258</td>\n",
              "      <td>0.905258</td>\n",
              "      <td>0.0</td>\n",
              "      <td>0.0</td>\n",
              "      <td>0.0</td>\n",
              "      <td>-8.429771</td>\n",
              "    </tr>\n",
              "    <tr>\n",
              "      <th>2</th>\n",
              "      <td>1997-05-19</td>\n",
              "      <td>-5.820814</td>\n",
              "      <td>-176.831982</td>\n",
              "      <td>143.783430</td>\n",
              "      <td>-5.820814</td>\n",
              "      <td>-5.820814</td>\n",
              "      <td>-3.051319</td>\n",
              "      <td>-3.051319</td>\n",
              "      <td>-3.051319</td>\n",
              "      <td>-2.348956</td>\n",
              "      <td>-2.348956</td>\n",
              "      <td>-2.348956</td>\n",
              "      <td>-0.702364</td>\n",
              "      <td>-0.702364</td>\n",
              "      <td>-0.702364</td>\n",
              "      <td>0.0</td>\n",
              "      <td>0.0</td>\n",
              "      <td>0.0</td>\n",
              "      <td>-8.872133</td>\n",
              "    </tr>\n",
              "    <tr>\n",
              "      <th>3</th>\n",
              "      <td>1997-05-20</td>\n",
              "      <td>-5.744147</td>\n",
              "      <td>-169.137758</td>\n",
              "      <td>147.988834</td>\n",
              "      <td>-5.744147</td>\n",
              "      <td>-5.744147</td>\n",
              "      <td>-2.034560</td>\n",
              "      <td>-2.034560</td>\n",
              "      <td>-2.034560</td>\n",
              "      <td>-0.960297</td>\n",
              "      <td>-0.960297</td>\n",
              "      <td>-0.960297</td>\n",
              "      <td>-1.074263</td>\n",
              "      <td>-1.074263</td>\n",
              "      <td>-1.074263</td>\n",
              "      <td>0.0</td>\n",
              "      <td>0.0</td>\n",
              "      <td>0.0</td>\n",
              "      <td>-7.778707</td>\n",
              "    </tr>\n",
              "    <tr>\n",
              "      <th>4</th>\n",
              "      <td>1997-05-21</td>\n",
              "      <td>-5.667479</td>\n",
              "      <td>-163.750115</td>\n",
              "      <td>153.262044</td>\n",
              "      <td>-5.667479</td>\n",
              "      <td>-5.667479</td>\n",
              "      <td>-1.830232</td>\n",
              "      <td>-1.830232</td>\n",
              "      <td>-1.830232</td>\n",
              "      <td>-0.467153</td>\n",
              "      <td>-0.467153</td>\n",
              "      <td>-0.467153</td>\n",
              "      <td>-1.363079</td>\n",
              "      <td>-1.363079</td>\n",
              "      <td>-1.363079</td>\n",
              "      <td>0.0</td>\n",
              "      <td>0.0</td>\n",
              "      <td>0.0</td>\n",
              "      <td>-7.497711</td>\n",
              "    </tr>\n",
              "    <tr>\n",
              "      <th>...</th>\n",
              "      <td>...</td>\n",
              "      <td>...</td>\n",
              "      <td>...</td>\n",
              "      <td>...</td>\n",
              "      <td>...</td>\n",
              "      <td>...</td>\n",
              "      <td>...</td>\n",
              "      <td>...</td>\n",
              "      <td>...</td>\n",
              "      <td>...</td>\n",
              "      <td>...</td>\n",
              "      <td>...</td>\n",
              "      <td>...</td>\n",
              "      <td>...</td>\n",
              "      <td>...</td>\n",
              "      <td>...</td>\n",
              "      <td>...</td>\n",
              "      <td>...</td>\n",
              "      <td>...</td>\n",
              "    </tr>\n",
              "    <tr>\n",
              "      <th>6845</th>\n",
              "      <td>2023-08-02</td>\n",
              "      <td>4225.871964</td>\n",
              "      <td>4057.987401</td>\n",
              "      <td>4430.111832</td>\n",
              "      <td>4152.562650</td>\n",
              "      <td>4300.195848</td>\n",
              "      <td>20.326514</td>\n",
              "      <td>20.326514</td>\n",
              "      <td>20.326514</td>\n",
              "      <td>-0.467153</td>\n",
              "      <td>-0.467153</td>\n",
              "      <td>-0.467153</td>\n",
              "      <td>20.793667</td>\n",
              "      <td>20.793667</td>\n",
              "      <td>20.793667</td>\n",
              "      <td>0.0</td>\n",
              "      <td>0.0</td>\n",
              "      <td>0.0</td>\n",
              "      <td>4246.198479</td>\n",
              "    </tr>\n",
              "    <tr>\n",
              "      <th>6846</th>\n",
              "      <td>2023-08-03</td>\n",
              "      <td>4227.305461</td>\n",
              "      <td>4055.678527</td>\n",
              "      <td>4420.376975</td>\n",
              "      <td>4153.874081</td>\n",
              "      <td>4301.764120</td>\n",
              "      <td>18.985957</td>\n",
              "      <td>18.985957</td>\n",
              "      <td>18.985957</td>\n",
              "      <td>-1.054298</td>\n",
              "      <td>-1.054298</td>\n",
              "      <td>-1.054298</td>\n",
              "      <td>20.040255</td>\n",
              "      <td>20.040255</td>\n",
              "      <td>20.040255</td>\n",
              "      <td>0.0</td>\n",
              "      <td>0.0</td>\n",
              "      <td>0.0</td>\n",
              "      <td>4246.291419</td>\n",
              "    </tr>\n",
              "    <tr>\n",
              "      <th>6847</th>\n",
              "      <td>2023-08-04</td>\n",
              "      <td>4228.738958</td>\n",
              "      <td>4057.667684</td>\n",
              "      <td>4435.707517</td>\n",
              "      <td>4155.185511</td>\n",
              "      <td>4303.319010</td>\n",
              "      <td>16.082953</td>\n",
              "      <td>16.082953</td>\n",
              "      <td>16.082953</td>\n",
              "      <td>-3.284213</td>\n",
              "      <td>-3.284213</td>\n",
              "      <td>-3.284213</td>\n",
              "      <td>19.367166</td>\n",
              "      <td>19.367166</td>\n",
              "      <td>19.367166</td>\n",
              "      <td>0.0</td>\n",
              "      <td>0.0</td>\n",
              "      <td>0.0</td>\n",
              "      <td>4244.821911</td>\n",
              "    </tr>\n",
              "    <tr>\n",
              "      <th>6848</th>\n",
              "      <td>2023-08-05</td>\n",
              "      <td>4230.172455</td>\n",
              "      <td>4062.807975</td>\n",
              "      <td>4428.078458</td>\n",
              "      <td>4156.496942</td>\n",
              "      <td>4304.869904</td>\n",
              "      <td>22.844202</td>\n",
              "      <td>22.844202</td>\n",
              "      <td>22.844202</td>\n",
              "      <td>4.057458</td>\n",
              "      <td>4.057458</td>\n",
              "      <td>4.057458</td>\n",
              "      <td>18.786744</td>\n",
              "      <td>18.786744</td>\n",
              "      <td>18.786744</td>\n",
              "      <td>0.0</td>\n",
              "      <td>0.0</td>\n",
              "      <td>0.0</td>\n",
              "      <td>4253.016656</td>\n",
              "    </tr>\n",
              "    <tr>\n",
              "      <th>6849</th>\n",
              "      <td>2023-08-06</td>\n",
              "      <td>4231.605952</td>\n",
              "      <td>4071.813507</td>\n",
              "      <td>4438.724445</td>\n",
              "      <td>4157.699817</td>\n",
              "      <td>4306.420798</td>\n",
              "      <td>22.366722</td>\n",
              "      <td>22.366722</td>\n",
              "      <td>22.366722</td>\n",
              "      <td>4.057459</td>\n",
              "      <td>4.057459</td>\n",
              "      <td>4.057459</td>\n",
              "      <td>18.309263</td>\n",
              "      <td>18.309263</td>\n",
              "      <td>18.309263</td>\n",
              "      <td>0.0</td>\n",
              "      <td>0.0</td>\n",
              "      <td>0.0</td>\n",
              "      <td>4253.972673</td>\n",
              "    </tr>\n",
              "  </tbody>\n",
              "</table>\n",
              "<p>6850 rows × 19 columns</p>\n",
              "</div>"
            ],
            "text/plain": [
              "             ds        trend  ...  multiplicative_terms_upper         yhat\n",
              "0    1997-05-15    -6.127483  ...                         0.0    -5.588482\n",
              "1    1997-05-16    -6.050816  ...                         0.0    -8.429771\n",
              "2    1997-05-19    -5.820814  ...                         0.0    -8.872133\n",
              "3    1997-05-20    -5.744147  ...                         0.0    -7.778707\n",
              "4    1997-05-21    -5.667479  ...                         0.0    -7.497711\n",
              "...         ...          ...  ...                         ...          ...\n",
              "6845 2023-08-02  4225.871964  ...                         0.0  4246.198479\n",
              "6846 2023-08-03  4227.305461  ...                         0.0  4246.291419\n",
              "6847 2023-08-04  4228.738958  ...                         0.0  4244.821911\n",
              "6848 2023-08-05  4230.172455  ...                         0.0  4253.016656\n",
              "6849 2023-08-06  4231.605952  ...                         0.0  4253.972673\n",
              "\n",
              "[6850 rows x 19 columns]"
            ]
          },
          "metadata": {
            "tags": []
          },
          "execution_count": 31
        }
      ]
    },
    {
      "cell_type": "code",
      "metadata": {
        "id": "n6VMQlg371g-"
      },
      "source": [
        "Forcast = forcast[['ds', 'yhat', 'yhat_upper', 'yhat_lower']]"
      ],
      "execution_count": 34,
      "outputs": []
    },
    {
      "cell_type": "code",
      "metadata": {
        "colab": {
          "base_uri": "https://localhost:8080/",
          "height": 441
        },
        "id": "unHsjyT47_2E",
        "outputId": "cbb42c20-e4cd-43e5-9670-0b787a77d279"
      },
      "source": [
        "Graph = model.plot(Forcast , xlabel= \"Date\", ylabel='Stock Price',)\n"
      ],
      "execution_count": 35,
      "outputs": [
        {
          "output_type": "display_data",
          "data": {
            "image/png": "[encoded data removed]",
            "text/plain": [
              "<Figure size 720x432 with 1 Axes>"
            ]
          },
          "metadata": {
            "tags": []
          }
        }
      ]
    },
    {
      "cell_type": "code",
      "metadata": {
        "id": "kU5t08RB8tBd"
      },
      "source": [
        ""
      ],
      "execution_count": null,
      "outputs": []
    }
  ]
}